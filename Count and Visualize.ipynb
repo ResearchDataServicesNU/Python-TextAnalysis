{
 "cells": [
  {
   "cell_type": "markdown",
   "metadata": {},
   "source": [
    "<font color ='gray'> [Start here](https://hub.tdm-pilot.org/user/jfergusonnortheasternedu/notebooks/jasfTest/About%20the%20Corpus%20and%20About%20Jupyter.ipynb) with 'About the Corpus/About Jupyter' </font>"
   ]
  },
  {
   "cell_type": "markdown",
   "metadata": {},
   "source": [
    "# Quantifying characteristics of documents in your dataset\n",
    "\n",
    "This notebook demonstrates how to quantify and ultimately visualize some characteristics of your dataset.  It includes steps to:\n",
    "\n",
    "* Import software that will let us visualize our data\n",
    "* Examine metadata from our documents\n",
    "* Look at quantitative characteristics of our datasets to answer and visualize our ultimate question:  \n",
    "\n",
    "* **Are the documents containing my keywords getting longer over time?**"
   ]
  },
  {
   "cell_type": "markdown",
   "metadata": {},
   "source": [
    "First we'll bring in pandas, which is a software library that will help us visualize our data."
   ]
  },
  {
   "cell_type": "code",
   "execution_count": 1,
   "metadata": {},
   "outputs": [],
   "source": [
    "import pandas as pd"
   ]
  },
  {
   "cell_type": "markdown",
   "metadata": {},
   "source": [
    "Next we import the Dataset module from the tdm_client library. The tdm_client library contains functions for connecting to the JSTOR server containing our corpus dataset."
   ]
  },
  {
   "cell_type": "code",
   "execution_count": 2,
   "metadata": {},
   "outputs": [],
   "source": [
    "from tdm_client import Dataset"
   ]
  },
  {
   "cell_type": "markdown",
   "metadata": {},
   "source": [
    "To analyze your dataset, use the [dataset ID](./key-terms.ipynb/#dataset-ID) provided when you created your [dataset](./key-terms.ipynb/#dataset). A copy of your [dataset ID](./key-terms.ipynb/#dataset-ID) was sent to your email when you created your [corpus](./key-terms.ipynb#corpus). It should look like a long series of characters surrounded by dashes.  \n",
    "\n",
    "We create a new variable **dset** and initialize its value using the **Dataset** function. A sample **dataset ID** of data derived from searching JSTOR for 'antibiotic' and 'resistance' and 'coli' is provided here ('06390cab-0bd5-5e5a-de2a-695d0b47f904'). Deleting that dataset ID and pasting your unique **dataset ID** here will import your dataset from the JSTOR server.\n",
    "\n",
    "**Note**: If you are curious what is in your dataset, there is a download link in the email you received. The format and content of the files is described in the notebook [Building a Dataset](./1-building-a-dataset.ipynb). \n"
   ]
  },
  {
   "cell_type": "code",
   "execution_count": 3,
   "metadata": {},
   "outputs": [],
   "source": [
    "dset = Dataset('06390cab-0bd5-5e5a-de2a-695d0b47f904')"
   ]
  },
  {
   "cell_type": "markdown",
   "metadata": {},
   "source": [
    "Before we go further, let's double-check to make sure we have the correct dataset. We can look at the original query by using the query_text method."
   ]
  },
  {
   "cell_type": "code",
   "execution_count": 4,
   "metadata": {},
   "outputs": [
    {
     "data": {
      "text/plain": [
       "'\"antibiotic resistance coli\" from JSTOR from 1900 - 2020'"
      ]
     },
     "execution_count": 4,
     "metadata": {},
     "output_type": "execute_result"
    }
   ],
   "source": [
    "dset.query_text()"
   ]
  },
  {
   "cell_type": "markdown",
   "metadata": {},
   "source": [
    "Let's take a look at what's in there!  We can find the total number of documents in the dataset using the `len()` function. "
   ]
  },
  {
   "cell_type": "code",
   "execution_count": 5,
   "metadata": {
    "scrolled": true
   },
   "outputs": [
    {
     "data": {
      "text/plain": [
       "10664"
      ]
     },
     "execution_count": 5,
     "metadata": {},
     "output_type": "execute_result"
    }
   ],
   "source": [
    "len(dset)"
   ]
  },
  {
   "cell_type": "markdown",
   "metadata": {},
   "source": [
    "The next command pulls the metadata elements out of our dataset. (No output will show.)"
   ]
  },
  {
   "cell_type": "code",
   "execution_count": 6,
   "metadata": {},
   "outputs": [],
   "source": [
    "metadata = dset.get_metadata()"
   ]
  },
  {
   "cell_type": "markdown",
   "metadata": {},
   "source": [
    "Let's look at a sample. The following command prints metadata for the first document in the set.\n"
   ]
  },
  {
   "cell_type": "code",
   "execution_count": 7,
   "metadata": {
    "scrolled": true
   },
   "outputs": [
    {
     "name": "stdout",
     "output_type": "stream",
     "text": [
      "{'id': 'http://www.jstor.org/stable/30224786', 'docType': 'article', 'abstract': 'In Arabidopsis thaliana, the ability to flower is mainly related to a floral repressor, FLOWERING LOCUS C (FLC), which is regulated through the vernalization pathway. The genes controlling the vernalization pathway seem to be only partially conserved in dicots other than the Brassicaceae. Cichorium intybus (chicory) is a biennial species belonging to the Asteraceae family, and it shows an obligate vernalization requirement for flowering. Cichorium intybus MADS (MCM1, Agamous, Deficiens, SRF) FLC-like (CiMFL) sequences were isolated in C. intybus by RT-PCR and their expression patterns characterized during plant development and in response to vernalization. The biological function of CiMFL was analysed by complementation of A. thaliana FRIGIDA (AtFRI);flc3. Resetting of MFL expression after vernalization was analysed during microsporogenesis. Before vernalization, CiMFL is mainly expressed in the axils of young leaves. Vernalization induced CiMFL down-regulation under a long-day photoperiod but not under a short-day photoperiod. Furthermore, together with a decrease in CiMFL transcripts, cold conditions induced changes in the morphology of the shoot apical meristem and in the transition to flowering. The biological function of CiMFL was found not to be conserved. Our results show that the regulation of CiMFL expression in time and space and in relation to environmental conditions is only partially conserved with respect to FLC isolated from A. thaliana. A model for flowering repression by CiMFL is proposed.', 'title': 'Characterization of a MADS FLOWERING LOCUS C-LIKE (MFL) Sequence in Cichorium intybus: A Comparative Study of CiMFL and AtFLC Reveals Homologies and Divergences in Gene Function', 'creators': ['A. Locascio', 'M. Lucchin', 'S. Varotto'], 'isPartOf': 'The New Phytologist', 'sourceCategory': ['Science & Mathematics', 'Botany & Plant Sciences', 'Biological Sciences'], 'pageStart': '630', 'url': 'http://www.jstor.org/stable/30224786', 'volumeNumber': '3', 'language': ['eng'], 'pageEnd': '643', 'pageCount': 14, 'pagination': 'pp. 630-643', 'datePublished': '2009-05-01T00:00:00Z', 'publicationYear': 2009, 'publisher': 'Wiley', 'wordCount': 10010, 'tdmCategory': ['Science (General)', 'Physiology'], 'provider': 'jstor', 'outputFormat': ['unigram'], 'identifier': [{'name': 'issn', 'value': '0028646X'}, {'name': 'oclc', 'value': '45446781'}, {'name': 'local_doi', 'value': '10.2307/30224786'}]}\n"
     ]
    }
   ],
   "source": [
    "print(metadata[1])"
   ]
  },
  {
   "cell_type": "markdown",
   "metadata": {},
   "source": [
    "Copy the 'ID' (URL) in the first line above and paste it into a separate browser tab or window.  \n",
    "It should look like a journal article, unsurprisingly."
   ]
  },
  {
   "cell_type": "markdown",
   "metadata": {},
   "source": [
    "*Optional (easy): How would you print metadata for the 6th document in this set?  Try it in the code block below.*"
   ]
  },
  {
   "cell_type": "code",
   "execution_count": null,
   "metadata": {},
   "outputs": [],
   "source": []
  },
  {
   "cell_type": "markdown",
   "metadata": {},
   "source": [
    "We grabbed the metadata successfully, but that big block of text isn't too pretty.  \n",
    "\n",
    "We can convert that metadata to a pandas DataFrame to take advantage of its plotting and manipulation functions. This will present our metadata in a table-like format, and help us learn more about what's in our dataset. \n",
    "\n",
    "First we define this new dataframe as 'df'."
   ]
  },
  {
   "cell_type": "code",
   "execution_count": 8,
   "metadata": {},
   "outputs": [],
   "source": [
    "df = pd.DataFrame(metadata)"
   ]
  },
  {
   "cell_type": "markdown",
   "metadata": {},
   "source": [
    "Now we'll organize the first 4 rows (aka documents) of the DataFrame we named 'df' into a table with a header, and take a look at their metadata.\n"
   ]
  },
  {
   "cell_type": "code",
   "execution_count": 9,
   "metadata": {},
   "outputs": [
    {
     "data": {
      "text/html": [
       "<div>\n",
       "<style scoped>\n",
       "    .dataframe tbody tr th:only-of-type {\n",
       "        vertical-align: middle;\n",
       "    }\n",
       "\n",
       "    .dataframe tbody tr th {\n",
       "        vertical-align: top;\n",
       "    }\n",
       "\n",
       "    .dataframe thead th {\n",
       "        text-align: right;\n",
       "    }\n",
       "</style>\n",
       "<table border=\"1\" class=\"dataframe\">\n",
       "  <thead>\n",
       "    <tr style=\"text-align: right;\">\n",
       "      <th></th>\n",
       "      <th>id</th>\n",
       "      <th>docType</th>\n",
       "      <th>abstract</th>\n",
       "      <th>title</th>\n",
       "      <th>creators</th>\n",
       "      <th>isPartOf</th>\n",
       "      <th>sourceCategory</th>\n",
       "      <th>pageStart</th>\n",
       "      <th>url</th>\n",
       "      <th>volumeNumber</th>\n",
       "      <th>...</th>\n",
       "      <th>publisher</th>\n",
       "      <th>wordCount</th>\n",
       "      <th>tdmCategory</th>\n",
       "      <th>provider</th>\n",
       "      <th>outputFormat</th>\n",
       "      <th>identifier</th>\n",
       "      <th>subTitle</th>\n",
       "      <th>iid</th>\n",
       "      <th>bigramCount</th>\n",
       "      <th>trigramCount</th>\n",
       "    </tr>\n",
       "  </thead>\n",
       "  <tbody>\n",
       "    <tr>\n",
       "      <th>0</th>\n",
       "      <td>http://www.jstor.org/stable/30142230</td>\n",
       "      <td>article</td>\n",
       "      <td>This review analyses the phenomenon of bacteri...</td>\n",
       "      <td>Bacterial Mycophagy: Definition and Diagnosis ...</td>\n",
       "      <td>[Johan H. J. Leveau, Gail M. Preston]</td>\n",
       "      <td>The New Phytologist</td>\n",
       "      <td>[Science &amp; Mathematics, Botany &amp; Plant Science...</td>\n",
       "      <td>859</td>\n",
       "      <td>http://www.jstor.org/stable/30142230</td>\n",
       "      <td>4</td>\n",
       "      <td>...</td>\n",
       "      <td>Wiley</td>\n",
       "      <td>15360</td>\n",
       "      <td>[Science (General), Physiology]</td>\n",
       "      <td>jstor</td>\n",
       "      <td>[unigram]</td>\n",
       "      <td>[{'name': 'issn', 'value': '0028646X'}, {'name...</td>\n",
       "      <td>NaN</td>\n",
       "      <td>NaN</td>\n",
       "      <td>NaN</td>\n",
       "      <td>NaN</td>\n",
       "    </tr>\n",
       "    <tr>\n",
       "      <th>1</th>\n",
       "      <td>http://www.jstor.org/stable/30224786</td>\n",
       "      <td>article</td>\n",
       "      <td>In Arabidopsis thaliana, the ability to flower...</td>\n",
       "      <td>Characterization of a MADS FLOWERING LOCUS C-L...</td>\n",
       "      <td>[A. Locascio, M. Lucchin, S. Varotto]</td>\n",
       "      <td>The New Phytologist</td>\n",
       "      <td>[Science &amp; Mathematics, Botany &amp; Plant Science...</td>\n",
       "      <td>630</td>\n",
       "      <td>http://www.jstor.org/stable/30224786</td>\n",
       "      <td>3</td>\n",
       "      <td>...</td>\n",
       "      <td>Wiley</td>\n",
       "      <td>10010</td>\n",
       "      <td>[Science (General), Physiology]</td>\n",
       "      <td>jstor</td>\n",
       "      <td>[unigram]</td>\n",
       "      <td>[{'name': 'issn', 'value': '0028646X'}, {'name...</td>\n",
       "      <td>NaN</td>\n",
       "      <td>NaN</td>\n",
       "      <td>NaN</td>\n",
       "      <td>NaN</td>\n",
       "    </tr>\n",
       "    <tr>\n",
       "      <th>2</th>\n",
       "      <td>http://www.jstor.org/stable/4091495</td>\n",
       "      <td>article</td>\n",
       "      <td>• We report on the second phase of a programme...</td>\n",
       "      <td>Assessment of Plants from the Brassicaceae Fam...</td>\n",
       "      <td>[Wendy Ann Peer, Mehrzad Mahmoudian, John L. F...</td>\n",
       "      <td>The New Phytologist</td>\n",
       "      <td>[Science &amp; Mathematics, Botany &amp; Plant Science...</td>\n",
       "      <td>248</td>\n",
       "      <td>http://www.jstor.org/stable/4091495</td>\n",
       "      <td>2</td>\n",
       "      <td>...</td>\n",
       "      <td>Wiley</td>\n",
       "      <td>9291</td>\n",
       "      <td>[Science (General), Botany, Physics]</td>\n",
       "      <td>jstor</td>\n",
       "      <td>[unigram]</td>\n",
       "      <td>[{'name': 'issn', 'value': '0028646X'}, {'name...</td>\n",
       "      <td>NaN</td>\n",
       "      <td>NaN</td>\n",
       "      <td>NaN</td>\n",
       "      <td>NaN</td>\n",
       "    </tr>\n",
       "    <tr>\n",
       "      <th>3</th>\n",
       "      <td>http://www.jstor.org/stable/1514055</td>\n",
       "      <td>article</td>\n",
       "      <td>Various rhizosphere bacteria are potential (mi...</td>\n",
       "      <td>Phenazines and Their Role in Biocontrol by Pse...</td>\n",
       "      <td>[Thomas F. C. Chin-A-Woeng, Guido V. Bloemberg...</td>\n",
       "      <td>The New Phytologist</td>\n",
       "      <td>[Science &amp; Mathematics, Botany &amp; Plant Science...</td>\n",
       "      <td>503</td>\n",
       "      <td>http://www.jstor.org/stable/1514055</td>\n",
       "      <td>3</td>\n",
       "      <td>...</td>\n",
       "      <td>Wiley</td>\n",
       "      <td>18176</td>\n",
       "      <td>[Science (General), Physiology, Chemistry]</td>\n",
       "      <td>jstor</td>\n",
       "      <td>[unigram]</td>\n",
       "      <td>[{'name': 'issn', 'value': '0028646X'}, {'name...</td>\n",
       "      <td>NaN</td>\n",
       "      <td>NaN</td>\n",
       "      <td>NaN</td>\n",
       "      <td>NaN</td>\n",
       "    </tr>\n",
       "  </tbody>\n",
       "</table>\n",
       "<p>4 rows × 26 columns</p>\n",
       "</div>"
      ],
      "text/plain": [
       "                                     id  docType  \\\n",
       "0  http://www.jstor.org/stable/30142230  article   \n",
       "1  http://www.jstor.org/stable/30224786  article   \n",
       "2   http://www.jstor.org/stable/4091495  article   \n",
       "3   http://www.jstor.org/stable/1514055  article   \n",
       "\n",
       "                                            abstract  \\\n",
       "0  This review analyses the phenomenon of bacteri...   \n",
       "1  In Arabidopsis thaliana, the ability to flower...   \n",
       "2  • We report on the second phase of a programme...   \n",
       "3  Various rhizosphere bacteria are potential (mi...   \n",
       "\n",
       "                                               title  \\\n",
       "0  Bacterial Mycophagy: Definition and Diagnosis ...   \n",
       "1  Characterization of a MADS FLOWERING LOCUS C-L...   \n",
       "2  Assessment of Plants from the Brassicaceae Fam...   \n",
       "3  Phenazines and Their Role in Biocontrol by Pse...   \n",
       "\n",
       "                                            creators             isPartOf  \\\n",
       "0              [Johan H. J. Leveau, Gail M. Preston]  The New Phytologist   \n",
       "1              [A. Locascio, M. Lucchin, S. Varotto]  The New Phytologist   \n",
       "2  [Wendy Ann Peer, Mehrzad Mahmoudian, John L. F...  The New Phytologist   \n",
       "3  [Thomas F. C. Chin-A-Woeng, Guido V. Bloemberg...  The New Phytologist   \n",
       "\n",
       "                                      sourceCategory pageStart  \\\n",
       "0  [Science & Mathematics, Botany & Plant Science...       859   \n",
       "1  [Science & Mathematics, Botany & Plant Science...       630   \n",
       "2  [Science & Mathematics, Botany & Plant Science...       248   \n",
       "3  [Science & Mathematics, Botany & Plant Science...       503   \n",
       "\n",
       "                                    url volumeNumber  ... publisher wordCount  \\\n",
       "0  http://www.jstor.org/stable/30142230            4  ...     Wiley     15360   \n",
       "1  http://www.jstor.org/stable/30224786            3  ...     Wiley     10010   \n",
       "2   http://www.jstor.org/stable/4091495            2  ...     Wiley      9291   \n",
       "3   http://www.jstor.org/stable/1514055            3  ...     Wiley     18176   \n",
       "\n",
       "                                  tdmCategory provider outputFormat  \\\n",
       "0             [Science (General), Physiology]    jstor    [unigram]   \n",
       "1             [Science (General), Physiology]    jstor    [unigram]   \n",
       "2        [Science (General), Botany, Physics]    jstor    [unigram]   \n",
       "3  [Science (General), Physiology, Chemistry]    jstor    [unigram]   \n",
       "\n",
       "                                          identifier subTitle  iid  \\\n",
       "0  [{'name': 'issn', 'value': '0028646X'}, {'name...      NaN  NaN   \n",
       "1  [{'name': 'issn', 'value': '0028646X'}, {'name...      NaN  NaN   \n",
       "2  [{'name': 'issn', 'value': '0028646X'}, {'name...      NaN  NaN   \n",
       "3  [{'name': 'issn', 'value': '0028646X'}, {'name...      NaN  NaN   \n",
       "\n",
       "  bigramCount trigramCount  \n",
       "0         NaN          NaN  \n",
       "1         NaN          NaN  \n",
       "2         NaN          NaN  \n",
       "3         NaN          NaN  \n",
       "\n",
       "[4 rows x 26 columns]"
      ]
     },
     "execution_count": 9,
     "metadata": {},
     "output_type": "execute_result"
    }
   ],
   "source": [
    "df.head(4)"
   ]
  },
  {
   "cell_type": "markdown",
   "metadata": {},
   "source": [
    "That's a little easier on the eyes!"
   ]
  },
  {
   "cell_type": "markdown",
   "metadata": {},
   "source": [
    "*Optional (easy-medium):  How would you look at the last 5 documents in the dataframe?  Try it in the code block below. (Hint: the opposite of 'head' is 'tail').*"
   ]
  },
  {
   "cell_type": "code",
   "execution_count": null,
   "metadata": {},
   "outputs": [],
   "source": []
  },
  {
   "cell_type": "markdown",
   "metadata": {},
   "source": [
    "Ultimately we're trying to figure out whether the documents in our dataset are getting longer over time.  We'll take a few steps to do that."
   ]
  },
  {
   "cell_type": "markdown",
   "metadata": {},
   "source": [
    "First, let's take a look at the years these documents were published.  The following code will show us the publication year range."
   ]
  },
  {
   "cell_type": "code",
   "execution_count": 10,
   "metadata": {
    "scrolled": true
   },
   "outputs": [
    {
     "name": "stdout",
     "output_type": "stream",
     "text": [
      "1937 to 2018\n"
     ]
    }
   ],
   "source": [
    "minYear = df['publicationYear'].min()\n",
    "maxYear = df['publicationYear'].max()\n",
    "\n",
    "print(str(minYear) + ' to ' + str(maxYear))"
   ]
  },
  {
   "cell_type": "markdown",
   "metadata": {},
   "source": [
    "The code to find the word count range in our documents looks very similar."
   ]
  },
  {
   "cell_type": "code",
   "execution_count": 11,
   "metadata": {},
   "outputs": [
    {
     "name": "stdout",
     "output_type": "stream",
     "text": [
      "187 to 1294326\n"
     ]
    }
   ],
   "source": [
    "minWords = df['wordCount'].min()\n",
    "maxWords = df['wordCount'].max()\n",
    "\n",
    "print(str(minWords) + ' to ' + str(maxWords))"
   ]
  },
  {
   "cell_type": "markdown",
   "metadata": {},
   "source": [
    "*Optional (easy-medium):  How would you modify the code above to count the page range in your set of documents?  Give it a try in the code cell below.*"
   ]
  },
  {
   "cell_type": "code",
   "execution_count": null,
   "metadata": {},
   "outputs": [],
   "source": []
  },
  {
   "cell_type": "markdown",
   "metadata": {},
   "source": [
    "*Optional:  Run the code cell below to find the mean number of words in the documents in your dataset.*"
   ]
  },
  {
   "cell_type": "code",
   "execution_count": 12,
   "metadata": {},
   "outputs": [
    {
     "name": "stdout",
     "output_type": "stream",
     "text": [
      "11864.154632408103\n"
     ]
    }
   ],
   "source": [
    "meanWords = df['wordCount'].mean()\n",
    "print(str(meanWords))"
   ]
  },
  {
   "cell_type": "markdown",
   "metadata": {},
   "source": [
    "**Grand finale time!** \n",
    "\n",
    "Now that we know a bit more about the documents in our dataset, we'll visualize the dataset to see if documents containing our keywords are getting longer over time.\n"
   ]
  },
  {
   "cell_type": "code",
   "execution_count": null,
   "metadata": {},
   "outputs": [],
   "source": [
    "df.groupby(['publicationYear', 'wordCount'])['id'].agg('count').unstack()\\\n",
    "    .plot.bar(title='Word count by year', legend=False, figsize=(20, 5), fontsize=12, stacked=True); "
   ]
  },
  {
   "cell_type": "markdown",
   "metadata": {},
   "source": [
    "This might take a while to run, especially if your dataset is large.  \n",
    "Recall that if the kernel is working you'll see this **In [ * ]** to the left of the cell."
   ]
  },
  {
   "cell_type": "markdown",
   "metadata": {},
   "source": [
    "What do you think -- are documents with your search terms getting longer over time?"
   ]
  },
  {
   "cell_type": "markdown",
   "metadata": {},
   "source": [
    "Want to learn more and/or try setting up your own Jupyter Notebook?   [This is a great tutorial.](https://www.dataquest.io/blog/jupyter-notebook-tutorial/)"
   ]
  }
 ],
 "metadata": {
  "kernelspec": {
   "display_name": "Python 3",
   "language": "python",
   "name": "python3"
  },
  "language_info": {
   "codemirror_mode": {
    "name": "ipython",
    "version": 3
   },
   "file_extension": ".py",
   "mimetype": "text/x-python",
   "name": "python",
   "nbconvert_exporter": "python",
   "pygments_lexer": "ipython3",
   "version": "3.6.8"
  }
 },
 "nbformat": 4,
 "nbformat_minor": 4
}
