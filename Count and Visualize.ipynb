{
 "cells": [
  {
   "cell_type": "markdown",
   "metadata": {},
   "source": [
    "# Quantifying characteristics of documents in your dataset\n",
    "\n",
    "This notebook demonstrates how to quantify and ultimately visualize some characteristics of your dataset.  It includes steps to:\n",
    "\n",
    "* Import software that will let us visualize our data\n",
    "* Examine metadata from our documents\n",
    "* Look at quantitative characteristics of our datasets to answer and visualize our ultimate question:  \n",
    "\n",
    "* **Are the documents containing my keywords getting longer over time?**"
   ]
  },
  {
   "cell_type": "markdown",
   "metadata": {},
   "source": [
    "A quick note before we get started. As you work through this notebook you'll see cells marked ***'optional'***. These are opportunities for you to try modifying and applying Python code to see what happens. I encourage you to try them, but you can also just run the notebook as written."
   ]
  },
  {
   "cell_type": "markdown",
   "metadata": {},
   "source": [
    "Let's do this! First we'll bring in pandas, which is a software library that will help us visualize our data."
   ]
  },
  {
   "cell_type": "code",
   "execution_count": null,
   "metadata": {},
   "outputs": [],
   "source": [
    "import pandas as pd"
   ]
  },
  {
   "cell_type": "markdown",
   "metadata": {},
   "source": [
    "Next we import the tdm_client library. The tdm_client library contains functions for connecting to the JSTOR server containing our corpus dataset."
   ]
  },
  {
   "cell_type": "code",
   "execution_count": null,
   "metadata": {},
   "outputs": [],
   "source": [
    "import tdm_client"
   ]
  },
  {
   "cell_type": "markdown",
   "metadata": {},
   "source": [
    "Next we'll pull in our datasets. To analyze your dataset, you'll use the dataset ID provided when you created your dataset.\n",
    "\n",
    "**Didn't create a dataset?**  Here are a few to choose from:\n",
    "\n",
    "\n",
    "* Documents published in African American Review, Black American Literature Forum, and Negro American Literature Forum (from JSTOR): <font color=red> b4668c50-a970-c4d7-eb2c-bb6d04313542 </font>\n",
    "\n",
    "\n",
    "* Articles containing keywords 'plague', 'pandemic', or 'pestilence', subject areas biological sciences or health sciences, 1915-2000 in JSTOR: <font color=red> 6ef4b79b-73a2-7590-afcd-0b22e64a2a46</font>\n",
    "\n",
    "\n",
    "* 'Civilian Conservation Corps' from Chronicling America:<font color=red> 9fa82dbc-9269-6deb-9720-179b4ba5e451</font>"
   ]
  },
  {
   "cell_type": "markdown",
   "metadata": {},
   "source": [
    "To analyze your dataset, use the dataset ID provided when you created your dataset. It should look like a long series of characters surrounded by dashes. Create a new variable called dataset_id to reference this value."
   ]
  },
  {
   "cell_type": "markdown",
   "metadata": {},
   "source": [
    "We create a new variable **dset** and initialize its value using the **Dataset** function. A sample **dataset ID** of data derived from searching JSTOR for 'Civilian Conservation Corps' is provided here ('e2a07be0-39f4-4b9f-b3d1-680bb04dc580'). Pasting your unique **dataset ID** here will import your dataset from the JSTOR server. (No output will show.)"
   ]
  },
  {
   "cell_type": "code",
   "execution_count": null,
   "metadata": {},
   "outputs": [],
   "source": [
    "dataset_id = 'e2a07be0-39f4-4b9f-b3d1-680bb04dc580'"
   ]
  },
  {
   "cell_type": "code",
   "execution_count": null,
   "metadata": {},
   "outputs": [],
   "source": [
    "dset_info = tdm_client.get_description(dataset_id)"
   ]
  },
  {
   "cell_type": "markdown",
   "metadata": {},
   "source": [
    "Since running that code cell doesn't yield any output, let's double-check to make sure we have the correct dataset before going further. We can look at the original query by looking at the `search_description`."
   ]
  },
  {
   "cell_type": "code",
   "execution_count": null,
   "metadata": {},
   "outputs": [],
   "source": [
    "dset_info[\"search_description\"]"
   ]
  },
  {
   "cell_type": "markdown",
   "metadata": {},
   "source": [
    "Let's take a look at what's in there!  We can find the total number of documents in the dataset in the `num_documents` key."
   ]
  },
  {
   "cell_type": "code",
   "execution_count": null,
   "metadata": {
    "scrolled": true
   },
   "outputs": [],
   "source": [
    "dset_info[\"num_documents\"]"
   ]
  },
  {
   "cell_type": "markdown",
   "metadata": {},
   "source": [
    "The next command pulls the metadata elements out of our dataset. (No output will show.)"
   ]
  },
  {
   "cell_type": "code",
   "execution_count": null,
   "metadata": {},
   "outputs": [],
   "source": [
    "metadata = tdm_client.get_metadata(dataset_id)"
   ]
  },
  {
   "cell_type": "markdown",
   "metadata": {},
   "source": [
    "We grabbed the metadata successfully, but at the moment it's just a csv file.\n",
    "\n",
    "We can convert that metadata to a pandas DataFrame to take advantage of its plotting and manipulation functions. This will present our metadata in a table-like format, and help us learn more about what's in our dataset. \n",
    "\n",
    "First we define this new dataframe as 'df'."
   ]
  },
  {
   "cell_type": "code",
   "execution_count": null,
   "metadata": {},
   "outputs": [],
   "source": [
    "df = pd.read_csv(metadata)"
   ]
  },
  {
   "cell_type": "markdown",
   "metadata": {},
   "source": [
    "Now we'll organize the first 4 rows (aka documents) of the DataFrame we named 'df' into a table with a header, and take a look at their metadata.\n"
   ]
  },
  {
   "cell_type": "code",
   "execution_count": null,
   "metadata": {},
   "outputs": [],
   "source": [
    "df.head(4)"
   ]
  },
  {
   "cell_type": "markdown",
   "metadata": {},
   "source": [
    "That's a little easier on the eyes!"
   ]
  },
  {
   "cell_type": "markdown",
   "metadata": {},
   "source": [
    "*Optional:  How would you look at the **last 5** documents in the dataframe?  Try it in the code block below. (Hint: the opposite of 'head' is 'tail').*"
   ]
  },
  {
   "cell_type": "code",
   "execution_count": null,
   "metadata": {},
   "outputs": [],
   "source": []
  },
  {
   "cell_type": "markdown",
   "metadata": {},
   "source": [
    "Ultimately we're trying to figure out whether the documents in our dataset are getting longer over time.  We'll take a few steps to do that."
   ]
  },
  {
   "cell_type": "markdown",
   "metadata": {},
   "source": [
    "First, let's take a look at the years these documents were published.  The following code will show us the publication year range."
   ]
  },
  {
   "cell_type": "code",
   "execution_count": null,
   "metadata": {
    "scrolled": true
   },
   "outputs": [],
   "source": [
    "minYear = df['publicationYear'].min()\n",
    "maxYear = df['publicationYear'].max()\n",
    "\n",
    "print(str(minYear) + ' to ' + str(maxYear))"
   ]
  },
  {
   "cell_type": "markdown",
   "metadata": {},
   "source": [
    "The code to find the word count range in our documents looks very similar."
   ]
  },
  {
   "cell_type": "code",
   "execution_count": null,
   "metadata": {},
   "outputs": [],
   "source": [
    "minWords = df['wordCount'].min()\n",
    "maxWords = df['wordCount'].max()\n",
    "\n",
    "print(str(minWords) + ' to ' + str(maxWords))"
   ]
  },
  {
   "cell_type": "markdown",
   "metadata": {},
   "source": [
    "*Optional:  How would you modify the code above to count the **page range** in your set of documents?  Give it a try in the code cell below.*"
   ]
  },
  {
   "cell_type": "code",
   "execution_count": null,
   "metadata": {},
   "outputs": [],
   "source": []
  },
  {
   "cell_type": "markdown",
   "metadata": {},
   "source": [
    "*Optional:  Run the code cell below to find the mean number of words in the documents in your dataset.*"
   ]
  },
  {
   "cell_type": "code",
   "execution_count": null,
   "metadata": {},
   "outputs": [],
   "source": [
    "meanWords = df['wordCount'].mean()\n",
    "print(str(meanWords))"
   ]
  },
  {
   "cell_type": "markdown",
   "metadata": {},
   "source": [
    "**Grand finale time!** \n",
    "\n",
    "Now that we know a bit more about the documents in our dataset, we'll visualize the dataset to see if documents containing our keywords are getting longer over time.\n"
   ]
  },
  {
   "cell_type": "markdown",
   "metadata": {},
   "source": [
    "This might take a while to run, especially if your dataset is large.  \n",
    "Recall that if the kernel is working you'll see this **In [ * ]** to the left of the cell.\n",
    "\n",
    "\n",
    "\n",
    "**Note**: There is an odd bug in this code that I've been unable to squash. If no output appears, run the below code cell again and you should then see the graph."
   ]
  },
  {
   "cell_type": "code",
   "execution_count": null,
   "metadata": {},
   "outputs": [],
   "source": [
    "df.groupby(['publicationYear'])['wordCount'].agg('sum').plot.bar(title='Word count by year', figsize=(20, 5), fontsize=12);"
   ]
  },
  {
   "cell_type": "markdown",
   "metadata": {},
   "source": [
    "What do you think -- are documents with your search terms getting longer over time?"
   ]
  },
  {
   "cell_type": "markdown",
   "metadata": {},
   "source": [
    "Want to learn more and/or try setting up your own Jupyter Notebook?   [This is a great tutorial.](https://www.dataquest.io/blog/jupyter-notebook-tutorial/)"
   ]
  }
 ],
 "metadata": {
  "kernelspec": {
   "display_name": "Python 3",
   "language": "python",
   "name": "python3"
  },
  "language_info": {
   "codemirror_mode": {
    "name": "ipython",
    "version": 3
   },
   "file_extension": ".py",
   "mimetype": "text/x-python",
   "name": "python",
   "nbconvert_exporter": "python",
   "pygments_lexer": "ipython3",
   "version": "3.7.4"
  },
  "toc": {
   "base_numbering": 1,
   "nav_menu": {},
   "number_sections": true,
   "sideBar": true,
   "skip_h1_title": true,
   "title_cell": "Table of Contents",
   "title_sidebar": "Contents",
   "toc_cell": false,
   "toc_position": {},
   "toc_section_display": true,
   "toc_window_display": false
  }
 },
 "nbformat": 4,
 "nbformat_minor": 4
}
