{
 "cells": [
  {
   "cell_type": "markdown",
   "metadata": {},
   "source": [
    "## **Guess what?  You're using a Jupyter Notebook right now!**\n",
    "\n",
    "\n"
   ]
  },
  {
   "cell_type": "markdown",
   "metadata": {},
   "source": [
    "## What is this thing?\n",
    "\n",
    "**Jupyter combines interwoven text, data, and code, in a format that runs in a web browser.**\n",
    "* 'Jupyter' = JUlia, PYthon, and R - but it's really language-agnostic\n",
    "* Jupyter Notebooks let you run code immediately\n",
    "* Jupyter Notebooks can connect to a server that has the right environment/dependencies to execute the code successfully. In this case, we're using a server provided by ITHAKA, parent company to JSTOR and [Constellate](https://constellate.org/), which is the platform you'll use to build your text analysis dataset.\n",
    "\n",
    "Any time you open a notebook, you will be working on your own temporary copy that you can edit without affecting the original or anyone else's work. So please feel free to press buttons and edit and delete things without fear. You can always close and re-open this document if you need to start over."
   ]
  },
  {
   "cell_type": "markdown",
   "metadata": {},
   "source": [
    "## What am I looking at?\n",
    "There are two main parts to a notebook:\n",
    "1. Document controls (the toolbar at the top of the page)\n",
    "2. Document content, which is made up of components called cells\n"
   ]
  },
  {
   "cell_type": "markdown",
   "metadata": {},
   "source": [
    "Jupyter Notebooks are collections of **cells that do different things.**  \n",
    "\n",
    "You can **navigate** through the cells of a notebook (including this one) by using the **'run' command** in the toolbar above."
   ]
  },
  {
   "cell_type": "markdown",
   "metadata": {},
   "source": [
    "**What do the cells do?**  For this exercise, we'll talk about 2 kinds of cells.  \n",
    "* This cell is an example of a **markdown** cell.  Markdown cells just contain text, and are used for commenting code, creating headings, etc.\n",
    "\n",
    "* There are also executable **code cells**. You can recognize code cells by the pair of brackets and a colon in the left margin, like so ``[ ]:``\n"
   ]
  },
  {
   "cell_type": "markdown",
   "metadata": {},
   "source": [
    "Let's try running a code cell to see what happens.\n",
    "\n",
    "### Exercise 1: Run a code cell.\n",
    "To run the code cell below, click on the cell and then press the \"Run cell\" button"
   ]
  },
  {
   "cell_type": "code",
   "execution_count": null,
   "metadata": {},
   "outputs": [],
   "source": [
    "1 + 1"
   ]
  },
  {
   "cell_type": "markdown",
   "metadata": {},
   "source": [
    "When you have run the cell, you should see an output appear just below the code cell:\n",
    "\n",
    "<img style=\"margin-left:50px\" src=\"Images/Screenshot_3_run.png\" width=\"500px\"/>\n",
    "\n",
    "The output after you run a cell essentially forms part of the document as you work through it.\n",
    "\n",
    "You may have noticed the brackets on the left change from being empty to containing a number. This tells you that the cell has successfully been run. Brackets will give you information about a code cell, like so:\n",
    "* ``[ ]:`` never been run\n",
    "* ``[*]:`` still running\n",
    "* ``[1]:`` was run 1st of all the cells in the document\n",
    "* ``[7]:`` was run 7th of all the cells in the document\n",
    "\n",
    "If you run this code cell a second time, you will see the brackets change to ``[2]:``. The number will always update to reflect the last time you ran the cell. In general, it's a good practice to run cells in sequential order as you work through a notebook to avoid errors.\n",
    "\n",
    "Running code cells is something you will do a lot of during this workshop! You can either press the run button each time, or you can use the following **keyboard shortcuts**:\n",
    "* Windows: press Ctrl + Enter\n",
    "* Mac: press Shift + Return"
   ]
  },
  {
   "cell_type": "markdown",
   "metadata": {},
   "source": [
    "### Exercise 2: Edit a cell.\n",
    "\n",
    "To practice editing a cell, double-click on the cell below. You'll see the cell highlight on the left change from <font color=blue>**blue**</font> to <font color=green>**green**</font>, indicating that you're now editing a cell. \n",
    "\n",
    "Try changing one of the numbers or the operator. Then run the cell using the 'run' button or one of the keyboard shortcuts above."
   ]
  },
  {
   "cell_type": "code",
   "execution_count": null,
   "metadata": {},
   "outputs": [],
   "source": [
    "1 + 1"
   ]
  },
  {
   "cell_type": "markdown",
   "metadata": {},
   "source": [
    "### Exercise 3: Restart this notebook.\n",
    "To completely restart this notebook and clear all of your work, click on the \"Kernel\" menu and then click on the \"Restart & Clear Output\" option.\n",
    "\n",
    "Then, click \"Restart and Clear All Outputs\" on the pop-up window that appears.\n",
    "\n",
    "This will completely reset the notebook."
   ]
  },
  {
   "cell_type": "markdown",
   "metadata": {},
   "source": [
    "# Lesson Complete!\n",
    "Next, we'll look at [Getting started with Python.](./SCSept21GettingStartedwithPython.ipynb)"
   ]
  },
  {
   "cell_type": "markdown",
   "metadata": {},
   "source": [
    "### More information\n",
    "If you would like to learn more about Markdown, check out this quick [Markdown guide](https://www.markdownguide.org/cheat-sheet/) or this longer [Markdown tutorial](https://www.markdowntutorial.com/)."
   ]
  },
  {
   "cell_type": "markdown",
   "metadata": {},
   "source": [
    "If you're curious about how we have set this notebook up, read on:\n",
    "\n",
    "* **[Binder](https://binder.constellate.org/)** is the *environment* we are using to access (\"run\") our Jupyter Notebooks inside a browser. It's kind of like a separate computer in the cloud that makes all of tools we need to use in Jupyter Notebooks work. We're using [Constellate's](https://constellate.org/) Binder for this session, but anyone can [create their own Binder](https://mybinder.org/).\n",
    "\n",
    "\n",
    "* We use **[Github](https://github.com/jasf-/tdm-nbs)** to store the Jupyter Notebooks (.ipynb files) for this session. Like any other computer, Binder will power down after a while--basically after a certain period of inactivity. So we need a place to make our Jupyter Notebooks available, and tell Binder where to find them the next time we start up a Binder session to interact with our notebooks."
   ]
  },
  {
   "cell_type": "markdown",
   "metadata": {},
   "source": [
    "<img align=\"left\" src=\"https://ithaka-labs.s3.amazonaws.com/static-files/images/tdm/tdmdocs/CC_BY.png\"><br/>\n",
    "\n",
    "Adapted by [Kate Kryder](https://library.northeastern.edu/about/library-staff-directory/kate-kryder) and [Jen Ferguson](https://library.northeastern.edu/about/library-staff-directory/jen-ferguson) from two notebooks created by [Nathan Kelber](http://nkelber.com) and Ted Lawless for [JSTOR Labs](https://labs.jstor.org/) under [Creative Commons CC BY License](https://creativecommons.org/licenses/by/4.0/).<br/> See [here](https://docs.tdm-pilot.org/tag/beginner-lessons/) for the original versions. Some content was also adapted from notebooks created by [Sarah Connell](https://library.northeastern.edu/about/library-staff-directory/sarah-connell) and Jen Ferguson for earlier versions of this workshop.<br />\n",
    "___"
   ]
  }
 ],
 "metadata": {
  "kernelspec": {
   "display_name": "Python 3",
   "language": "python",
   "name": "python3"
  },
  "language_info": {
   "codemirror_mode": {
    "name": "ipython",
    "version": 3
   },
   "file_extension": ".py",
   "mimetype": "text/x-python",
   "name": "python",
   "nbconvert_exporter": "python",
   "pygments_lexer": "ipython3",
   "version": "3.8.3"
  },
  "toc": {
   "base_numbering": 1,
   "nav_menu": {},
   "number_sections": true,
   "sideBar": true,
   "skip_h1_title": true,
   "title_cell": "Table of Contents",
   "title_sidebar": "Contents",
   "toc_cell": false,
   "toc_position": {},
   "toc_section_display": true,
   "toc_window_display": false
  }
 },
 "nbformat": 4,
 "nbformat_minor": 4
}
